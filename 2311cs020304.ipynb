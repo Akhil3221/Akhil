{
 "cells": [
  {
   "cell_type": "code",
   "execution_count": 5,
   "id": "c143a6ce-e907-475d-8c67-6362d3a38019",
   "metadata": {},
   "outputs": [
    {
     "data": {
      "text/plain": [
       "float"
      ]
     },
     "execution_count": 5,
     "metadata": {},
     "output_type": "execute_result"
    }
   ],
   "source": [
    "t=3.3\n",
    "type(t)"
   ]
  },
  {
   "cell_type": "code",
   "execution_count": 11,
   "id": "d0083619-5be0-4be2-8639-7f0de749b5bb",
   "metadata": {},
   "outputs": [
    {
     "data": {
      "text/plain": [
       "int"
      ]
     },
     "execution_count": 11,
     "metadata": {},
     "output_type": "execute_result"
    }
   ],
   "source": [
    "p=46\n",
    "type(p)"
   ]
  },
  {
   "cell_type": "code",
   "execution_count": 15,
   "id": "026b2288-e7ad-4675-a35b-b713319ceb52",
   "metadata": {},
   "outputs": [
    {
     "data": {
      "text/plain": [
       "bool"
      ]
     },
     "execution_count": 15,
     "metadata": {},
     "output_type": "execute_result"
    }
   ],
   "source": [
    "a=True\n",
    "type(a)"
   ]
  },
  {
   "cell_type": "code",
   "execution_count": 17,
   "id": "44d6bbea-8a8c-498d-bae8-ec9d504fce0b",
   "metadata": {},
   "outputs": [
    {
     "data": {
      "text/plain": [
       "str"
      ]
     },
     "execution_count": 17,
     "metadata": {},
     "output_type": "execute_result"
    }
   ],
   "source": [
    "y='riya'\n",
    "type(y)"
   ]
  },
  {
   "cell_type": "code",
   "execution_count": 21,
   "id": "f8f0a28f-4870-4d2d-9510-719fa59e3377",
   "metadata": {},
   "outputs": [
    {
     "data": {
      "text/plain": [
       "complex"
      ]
     },
     "execution_count": 21,
     "metadata": {},
     "output_type": "execute_result"
    }
   ],
   "source": [
    "k=46+7j\n",
    "type(k)"
   ]
  },
  {
   "cell_type": "code",
   "execution_count": 23,
   "id": "3e23e359-a9a0-4b8a-9315-1bcd4432cee7",
   "metadata": {},
   "outputs": [
    {
     "data": {
      "text/plain": [
       "str"
      ]
     },
     "execution_count": 23,
     "metadata": {},
     "output_type": "execute_result"
    }
   ],
   "source": [
    "p='akki'\n",
    "type(p)"
   ]
  },
  {
   "cell_type": "code",
   "execution_count": 1,
   "id": "fe6384b5-e60d-4a1c-999f-38876da39fa4",
   "metadata": {},
   "outputs": [],
   "source": [
    "### addition  +\n",
    "### substraction -\n",
    "### multiplication *\n",
    "### division /\n",
    "### reminder %\n",
    "### power  **\n",
    "### // floor division\n",
    "\n"
   ]
  },
  {
   "cell_type": "code",
   "execution_count": 14,
   "id": "b9eacca8-8aa7-4057-819c-004b67edbc56",
   "metadata": {},
   "outputs": [],
   "source": [
    "a=109\n",
    "b=3\n"
   ]
  },
  {
   "cell_type": "code",
   "execution_count": 22,
   "id": "59e150e0-200d-484d-95dd-b77e730665f4",
   "metadata": {},
   "outputs": [
    {
     "data": {
      "text/plain": [
       "112"
      ]
     },
     "execution_count": 22,
     "metadata": {},
     "output_type": "execute_result"
    }
   ],
   "source": [
    "c=a+b\n",
    "c"
   ]
  },
  {
   "cell_type": "code",
   "execution_count": 24,
   "id": "20a706df-e3c7-4248-952b-6ab6219187ab",
   "metadata": {},
   "outputs": [
    {
     "data": {
      "text/plain": [
       "int"
      ]
     },
     "execution_count": 24,
     "metadata": {},
     "output_type": "execute_result"
    }
   ],
   "source": [
    "type(c)"
   ]
  },
  {
   "cell_type": "code",
   "execution_count": 26,
   "id": "d64e8ec9-3733-4495-82bf-5466ef1ddf2f",
   "metadata": {},
   "outputs": [
    {
     "data": {
      "text/plain": [
       "106"
      ]
     },
     "execution_count": 26,
     "metadata": {},
     "output_type": "execute_result"
    }
   ],
   "source": [
    "r=a-b\n",
    "r"
   ]
  },
  {
   "cell_type": "code",
   "execution_count": 28,
   "id": "b18a137c-0967-44c2-879c-3c2db8dd619b",
   "metadata": {},
   "outputs": [
    {
     "data": {
      "text/plain": [
       "int"
      ]
     },
     "execution_count": 28,
     "metadata": {},
     "output_type": "execute_result"
    }
   ],
   "source": [
    "type(r)"
   ]
  },
  {
   "cell_type": "code",
   "execution_count": 30,
   "id": "2569a93f-b1dd-4d95-b280-d7fdf87dac46",
   "metadata": {},
   "outputs": [
    {
     "data": {
      "text/plain": [
       "327"
      ]
     },
     "execution_count": 30,
     "metadata": {},
     "output_type": "execute_result"
    }
   ],
   "source": [
    "z=a*b\n",
    "z"
   ]
  },
  {
   "cell_type": "code",
   "execution_count": 32,
   "id": "40a6cd64-5cd3-4049-9039-63620539d918",
   "metadata": {},
   "outputs": [
    {
     "data": {
      "text/plain": [
       "int"
      ]
     },
     "execution_count": 32,
     "metadata": {},
     "output_type": "execute_result"
    }
   ],
   "source": [
    "type(z)"
   ]
  },
  {
   "cell_type": "code",
   "execution_count": 34,
   "id": "2a3619f9-b5d0-4ac6-be06-485f07db69df",
   "metadata": {},
   "outputs": [
    {
     "data": {
      "text/plain": [
       "36.333333333333336"
      ]
     },
     "execution_count": 34,
     "metadata": {},
     "output_type": "execute_result"
    }
   ],
   "source": [
    "y=a/b\n",
    "y"
   ]
  },
  {
   "cell_type": "code",
   "execution_count": 36,
   "id": "ff6d4bf8-8595-48cd-ac3f-6e801a9e7042",
   "metadata": {},
   "outputs": [
    {
     "data": {
      "text/plain": [
       "float"
      ]
     },
     "execution_count": 36,
     "metadata": {},
     "output_type": "execute_result"
    }
   ],
   "source": [
    "type(y)"
   ]
  },
  {
   "cell_type": "code",
   "execution_count": 38,
   "id": "c156be01-11ca-4040-8687-1654714ed91b",
   "metadata": {},
   "outputs": [
    {
     "data": {
      "text/plain": [
       "1"
      ]
     },
     "execution_count": 38,
     "metadata": {},
     "output_type": "execute_result"
    }
   ],
   "source": [
    "t=a%b\n",
    "t"
   ]
  },
  {
   "cell_type": "code",
   "execution_count": 40,
   "id": "50696084-194d-40d0-800f-edcaf5fc166b",
   "metadata": {},
   "outputs": [
    {
     "data": {
      "text/plain": [
       "int"
      ]
     },
     "execution_count": 40,
     "metadata": {},
     "output_type": "execute_result"
    }
   ],
   "source": [
    "type(t)"
   ]
  },
  {
   "cell_type": "code",
   "execution_count": 42,
   "id": "7ff76d90-b8b8-4817-9709-c71514fd7456",
   "metadata": {},
   "outputs": [
    {
     "data": {
      "text/plain": [
       "1295029"
      ]
     },
     "execution_count": 42,
     "metadata": {},
     "output_type": "execute_result"
    }
   ],
   "source": [
    "s=a**b\n",
    "s"
   ]
  },
  {
   "cell_type": "code",
   "execution_count": 44,
   "id": "bd5f3937-3f69-4f60-bcce-89cb18ddd3f4",
   "metadata": {},
   "outputs": [],
   "source": [
    "a=34\n",
    "b=22\n"
   ]
  },
  {
   "cell_type": "code",
   "execution_count": 46,
   "id": "7fef2be1-fdee-4544-82ec-6edbc12bbdd7",
   "metadata": {},
   "outputs": [
    {
     "data": {
      "text/plain": [
       "True"
      ]
     },
     "execution_count": 46,
     "metadata": {},
     "output_type": "execute_result"
    }
   ],
   "source": [
    "a>b"
   ]
  },
  {
   "cell_type": "code",
   "execution_count": 48,
   "id": "6387c5eb-388f-481b-a7c3-f53d9a801bfe",
   "metadata": {},
   "outputs": [
    {
     "data": {
      "text/plain": [
       "False"
      ]
     },
     "execution_count": 48,
     "metadata": {},
     "output_type": "execute_result"
    }
   ],
   "source": [
    "a<b"
   ]
  },
  {
   "cell_type": "code",
   "execution_count": 50,
   "id": "d8ab276c-e553-4a2b-a506-f39aadd640c9",
   "metadata": {},
   "outputs": [
    {
     "data": {
      "text/plain": [
       "True"
      ]
     },
     "execution_count": 50,
     "metadata": {},
     "output_type": "execute_result"
    }
   ],
   "source": [
    "a>=b"
   ]
  },
  {
   "cell_type": "code",
   "execution_count": 52,
   "id": "403da21c-adea-4973-8bc5-b1701b61bedc",
   "metadata": {},
   "outputs": [
    {
     "data": {
      "text/plain": [
       "False"
      ]
     },
     "execution_count": 52,
     "metadata": {},
     "output_type": "execute_result"
    }
   ],
   "source": [
    "a<=b"
   ]
  },
  {
   "cell_type": "code",
   "execution_count": 54,
   "id": "82f1d5c5-fb0e-4ccb-bb51-a6889df7b71b",
   "metadata": {},
   "outputs": [
    {
     "data": {
      "text/plain": [
       "False"
      ]
     },
     "execution_count": 54,
     "metadata": {},
     "output_type": "execute_result"
    }
   ],
   "source": [
    "a==b"
   ]
  },
  {
   "cell_type": "code",
   "execution_count": 56,
   "id": "78d1126a-7068-4f5c-8719-1c83677648d8",
   "metadata": {},
   "outputs": [
    {
     "data": {
      "text/plain": [
       "False"
      ]
     },
     "execution_count": 56,
     "metadata": {},
     "output_type": "execute_result"
    }
   ],
   "source": [
    "6!=3*2"
   ]
  },
  {
   "cell_type": "code",
   "execution_count": 60,
   "id": "be9f1c1c-9d4b-4fa3-99fc-aadc25c0b1d7",
   "metadata": {},
   "outputs": [],
   "source": [
    "d=8.5"
   ]
  },
  {
   "cell_type": "code",
   "execution_count": 62,
   "id": "790ef829-e3f7-430e-acdd-e715f7d7f0e3",
   "metadata": {},
   "outputs": [
    {
     "data": {
      "text/plain": [
       "True"
      ]
     },
     "execution_count": 62,
     "metadata": {},
     "output_type": "execute_result"
    }
   ],
   "source": [
    "d>=8.1 or d<=9.0"
   ]
  },
  {
   "cell_type": "code",
   "execution_count": 66,
   "id": "2fd59985-4e90-4529-a03b-e5d55de1045d",
   "metadata": {},
   "outputs": [
    {
     "data": {
      "text/plain": [
       "True"
      ]
     },
     "execution_count": 66,
     "metadata": {},
     "output_type": "execute_result"
    }
   ],
   "source": [
    "d>=5.7"
   ]
  },
  {
   "cell_type": "code",
   "execution_count": 68,
   "id": "370b0b86-7e71-4afa-b8ab-be002ed92da6",
   "metadata": {},
   "outputs": [
    {
     "data": {
      "text/plain": [
       "True"
      ]
     },
     "execution_count": 68,
     "metadata": {},
     "output_type": "execute_result"
    }
   ],
   "source": [
    "d<=8.0"
   ]
  },
  {
   "cell_type": "code",
   "execution_count": 70,
   "id": "c45e3b87-4d45-44b2-a14d-8cbdc6d0546a",
   "metadata": {},
   "outputs": [
    {
     "data": {
      "text/plain": [
       "True"
      ]
     },
     "execution_count": 70,
     "metadata": {},
     "output_type": "execute_result"
    }
   ],
   "source": [
    "d>=8.1 or d<=9.0"
   ]
  },
  {
   "cell_type": "code",
   "execution_count": 72,
   "id": "6e22c90b-47b6-443b-913b-ebf2c088c1db",
   "metadata": {},
   "outputs": [
    {
     "data": {
      "text/plain": [
       "False"
      ]
     },
     "execution_count": 72,
     "metadata": {},
     "output_type": "execute_result"
    }
   ],
   "source": [
    "d>=8.1 and d<=9.0"
   ]
  },
  {
   "cell_type": "code",
   "execution_count": 78,
   "id": "d4431919-f9ec-4151-9d10-bc5790dee228",
   "metadata": {},
   "outputs": [],
   "source": [
    "cgpa=7.4"
   ]
  },
  {
   "cell_type": "code",
   "execution_count": 82,
   "id": "2c5f7351-bbec-4560-a473-55d92af86c4f",
   "metadata": {},
   "outputs": [
    {
     "data": {
      "text/plain": [
       "False"
      ]
     },
     "execution_count": 82,
     "metadata": {},
     "output_type": "execute_result"
    }
   ],
   "source": [
    "cgpa>=8.1 and cgpa<=9.0  # A grade"
   ]
  },
  {
   "cell_type": "code",
   "execution_count": 88,
   "id": "1eab6997-dbe7-48b3-b10d-2e79a29efb7a",
   "metadata": {},
   "outputs": [
    {
     "data": {
      "text/plain": [
       "True"
      ]
     },
     "execution_count": 88,
     "metadata": {},
     "output_type": "execute_result"
    }
   ],
   "source": [
    "cgpa>=7.1 and cgpa<=8.0  # B grade"
   ]
  },
  {
   "cell_type": "code",
   "execution_count": 90,
   "id": "ace90f3c-825c-4ded-b70d-59385d15e80c",
   "metadata": {},
   "outputs": [
    {
     "data": {
      "text/plain": [
       "False"
      ]
     },
     "execution_count": 90,
     "metadata": {},
     "output_type": "execute_result"
    }
   ],
   "source": [
    "cgpa>=6.1 and cgpa<=7.1  # C grade"
   ]
  },
  {
   "cell_type": "code",
   "execution_count": 92,
   "id": "2a0ec357-cf2e-4755-bb86-ee7a1f2c8995",
   "metadata": {},
   "outputs": [
    {
     "data": {
      "text/plain": [
       "False"
      ]
     },
     "execution_count": 92,
     "metadata": {},
     "output_type": "execute_result"
    }
   ],
   "source": [
    "cgpa>=5.1 and cgpa<=6.1 # D grade"
   ]
  },
  {
   "cell_type": "code",
   "execution_count": 7,
   "id": "c308964a-082e-4193-93b7-b81a4c80670f",
   "metadata": {},
   "outputs": [
    {
     "data": {
      "text/plain": [
       "[3221, 46.69, 'akki', True]"
      ]
     },
     "execution_count": 7,
     "metadata": {},
     "output_type": "execute_result"
    }
   ],
   "source": [
    "w = [3221,46.69,\"akki\",True]\n",
    "w"
   ]
  },
  {
   "cell_type": "code",
   "execution_count": 9,
   "id": "31b4e20a-5874-4aeb-8dce-52685ddc9bd8",
   "metadata": {},
   "outputs": [
    {
     "data": {
      "text/plain": [
       "list"
      ]
     },
     "execution_count": 9,
     "metadata": {},
     "output_type": "execute_result"
    }
   ],
   "source": [
    "type(w)"
   ]
  },
  {
   "cell_type": "code",
   "execution_count": 15,
   "id": "c0ade3aa-4687-4a84-a544-a11759ba9365",
   "metadata": {},
   "outputs": [
    {
     "data": {
      "text/plain": [
       "[405, 'Hyderabad', True, False, 99.89, 321, 185]"
      ]
     },
     "execution_count": 15,
     "metadata": {},
     "output_type": "execute_result"
    }
   ],
   "source": [
    "d=[405,'Hyderabad',True,False,99.89,321,185]\n",
    "d"
   ]
  },
  {
   "cell_type": "code",
   "execution_count": 13,
   "id": "4b091099-d36d-45b2-a477-dea269002280",
   "metadata": {},
   "outputs": [
    {
     "data": {
      "text/plain": [
       "'Hyderabad'"
      ]
     },
     "execution_count": 13,
     "metadata": {},
     "output_type": "execute_result"
    }
   ],
   "source": [
    "d[0]"
   ]
  },
  {
   "cell_type": "code",
   "execution_count": 27,
   "id": "9773d73c-b101-4cd2-ac5d-06747d62fe24",
   "metadata": {},
   "outputs": [
    {
     "data": {
      "text/plain": [
       "'Hyderabad'"
      ]
     },
     "execution_count": 27,
     "metadata": {},
     "output_type": "execute_result"
    }
   ],
   "source": [
    "d[1]"
   ]
  },
  {
   "cell_type": "code",
   "execution_count": 19,
   "id": "4d15ff63-90e3-4a02-b9fe-9d272eabe928",
   "metadata": {},
   "outputs": [
    {
     "data": {
      "text/plain": [
       "['Hyderabad', True, False, 99.89]"
      ]
     },
     "execution_count": 19,
     "metadata": {},
     "output_type": "execute_result"
    }
   ],
   "source": [
    "d[1:5]"
   ]
  },
  {
   "cell_type": "code",
   "execution_count": 21,
   "id": "34e4fd10-f89e-46a6-aa12-3ffd67dd13ea",
   "metadata": {},
   "outputs": [
    {
     "data": {
      "text/plain": [
       "[405, True, 99.89, 185]"
      ]
     },
     "execution_count": 21,
     "metadata": {},
     "output_type": "execute_result"
    }
   ],
   "source": [
    "d[0::2]"
   ]
  },
  {
   "cell_type": "code",
   "execution_count": 25,
   "id": "44beeef2-044a-424f-9d05-0bf76773c8bb",
   "metadata": {},
   "outputs": [
    {
     "data": {
      "text/plain": [
       "[405, True, 99.89, 185]"
      ]
     },
     "execution_count": 25,
     "metadata": {},
     "output_type": "execute_result"
    }
   ],
   "source": [
    "d[0:8:2]"
   ]
  },
  {
   "cell_type": "markdown",
   "id": "c58dc9e0-987f-425f-9668-7c61c07ea1e6",
   "metadata": {},
   "source": [
    "list methods"
   ]
  },
  {
   "cell_type": "code",
   "execution_count": null,
   "id": "5c076d21-9b78-49de-9244-2cc62e93820a",
   "metadata": {},
   "outputs": [],
   "source": [
    "#list methods\n",
    "append\n",
    "insert\n",
    "extend\n",
    "pop\n",
    "remove\n",
    "clear\n",
    "count"
   ]
  },
  {
   "cell_type": "code",
   "execution_count": null,
   "id": "78e28280-3e14-4792-af16-c13a45dbbfdc",
   "metadata": {},
   "outputs": [],
   "source": [
    "d.insert(1,98)"
   ]
  },
  {
   "cell_type": "code",
   "execution_count": 32,
   "id": "789bce6d-5fd0-49d6-86d0-8a734b4443f0",
   "metadata": {},
   "outputs": [
    {
     "data": {
      "text/plain": [
       "[405, 'Hyderabad', True, False, 99.89, 321, 185]"
      ]
     },
     "execution_count": 32,
     "metadata": {},
     "output_type": "execute_result"
    }
   ],
   "source": [
    "d"
   ]
  },
  {
   "cell_type": "code",
   "execution_count": 34,
   "id": "97930e7e-40f1-48ae-a69b-2522244f28b9",
   "metadata": {},
   "outputs": [],
   "source": [
    "d.remove(321)"
   ]
  },
  {
   "cell_type": "code",
   "execution_count": 36,
   "id": "7fcb2b9a-a4e0-4555-8733-81512f1147c8",
   "metadata": {},
   "outputs": [
    {
     "data": {
      "text/plain": [
       "[405, 'Hyderabad', True, False, 99.89, 185]"
      ]
     },
     "execution_count": 36,
     "metadata": {},
     "output_type": "execute_result"
    }
   ],
   "source": [
    "d"
   ]
  },
  {
   "cell_type": "code",
   "execution_count": 42,
   "id": "a9256bde-4a21-4a04-8a62-b5c6625c26eb",
   "metadata": {},
   "outputs": [
    {
     "data": {
      "text/plain": [
       "False"
      ]
     },
     "execution_count": 42,
     "metadata": {},
     "output_type": "execute_result"
    }
   ],
   "source": [
    "d.pop(3)"
   ]
  },
  {
   "cell_type": "code",
   "execution_count": 44,
   "id": "df791c47-9ce7-4cbd-b7ee-312a63b0b26f",
   "metadata": {},
   "outputs": [],
   "source": [
    "d.append(185)"
   ]
  },
  {
   "cell_type": "code",
   "execution_count": 46,
   "id": "67981b4b-f58d-4348-9838-e3bf5e28fe85",
   "metadata": {},
   "outputs": [
    {
     "data": {
      "text/plain": [
       "[405, 'Hyderabad', True, 99.89, 185, 185]"
      ]
     },
     "execution_count": 46,
     "metadata": {},
     "output_type": "execute_result"
    }
   ],
   "source": [
    "d"
   ]
  },
  {
   "cell_type": "code",
   "execution_count": 48,
   "id": "d10f8d8e-1cbf-405a-bee0-ddb4ec3c54d5",
   "metadata": {},
   "outputs": [],
   "source": [
    "d.extend([46,69,89])"
   ]
  },
  {
   "cell_type": "code",
   "execution_count": 50,
   "id": "f2fc5bdd-7e7d-4cfa-a437-9f06a6d78277",
   "metadata": {},
   "outputs": [
    {
     "data": {
      "text/plain": [
       "[405, 'Hyderabad', True, 99.89, 185, 185, 46, 69, 89]"
      ]
     },
     "execution_count": 50,
     "metadata": {},
     "output_type": "execute_result"
    }
   ],
   "source": [
    "d"
   ]
  },
  {
   "cell_type": "code",
   "execution_count": null,
   "id": "5174facb-b579-45a4-8279-b1ce3b75ca30",
   "metadata": {},
   "outputs": [],
   "source": [
    "h= (90,20,50,70,30)\n",
    "h"
   ]
  },
  {
   "cell_type": "code",
   "execution_count": null,
   "id": "c0dcc572-4f6b-4213-b5d0-e4788296705d",
   "metadata": {},
   "outputs": [],
   "source": []
  }
 ],
 "metadata": {
  "kernelspec": {
   "display_name": "Python [conda env:base] *",
   "language": "python",
   "name": "conda-base-py"
  },
  "language_info": {
   "codemirror_mode": {
    "name": "ipython",
    "version": 3
   },
   "file_extension": ".py",
   "mimetype": "text/x-python",
   "name": "python",
   "nbconvert_exporter": "python",
   "pygments_lexer": "ipython3",
   "version": "3.12.7"
  }
 },
 "nbformat": 4,
 "nbformat_minor": 5
}
