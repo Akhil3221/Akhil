{
 "cells": [
  {
   "cell_type": "code",
   "execution_count": 6,
   "id": "fd3b3ed0-957a-4bdf-acab-0a8f890370a6",
   "metadata": {},
   "outputs": [
    {
     "name": "stdout",
     "output_type": "stream",
     "text": [
      "Original list: [1.5, 2.3, 0.8, 3.0]\n",
      "Binarized list: [0, 1, 0, 1]\n"
     ]
    }
   ],
   "source": [
    "def binarize(numbers, threshold):\n",
    "    # Apply binarization: 1 if number >= threshold, else 0\n",
    "    binary_list = [1 if x >= threshold else 0 for x in numbers]\n",
    "    return binary_list\n",
    "#Input\n",
    "numbers = [1.5, 2.3, 0.8, 3.0]\n",
    "threshold = 2.0\n",
    "binarized_output = binarize(numbers, threshold)\n",
    "print(\"Original list:\", numbers)\n",
    "print(\"Binarized list:\", binarized_output)"
   ]
  },
  {
   "cell_type": "code",
   "execution_count": null,
   "id": "c82ba252-ab78-42f9-bb83-a641f1328c73",
   "metadata": {},
   "outputs": [],
   "source": []
  }
 ],
 "metadata": {
  "kernelspec": {
   "display_name": "Python [conda env:base] *",
   "language": "python",
   "name": "conda-base-py"
  },
  "language_info": {
   "codemirror_mode": {
    "name": "ipython",
    "version": 3
   },
   "file_extension": ".py",
   "mimetype": "text/x-python",
   "name": "python",
   "nbconvert_exporter": "python",
   "pygments_lexer": "ipython3",
   "version": "3.12.7"
  }
 },
 "nbformat": 4,
 "nbformat_minor": 5
}
