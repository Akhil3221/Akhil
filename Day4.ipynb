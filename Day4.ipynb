{
 "cells": [
  {
   "cell_type": "code",
   "execution_count": null,
   "id": "631e6b53-64d2-4a1e-bf85-dc8b557eeb81",
   "metadata": {},
   "outputs": [],
   "source": [
    "if condition1:\n",
    "    task1 block of code\n",
    "elif condition2:\n",
    "    task2 block of code\n",
    "elif condition3:\n",
    "    task3 block of code\n",
    "else:\n",
    "    task4 block of code\n",
    "    "
   ]
  },
  {
   "cell_type": "code",
   "execution_count": 2,
   "id": "3cb64ec8-6ca7-43f4-a20c-a4bc53da190d",
   "metadata": {},
   "outputs": [
    {
     "name": "stdout",
     "output_type": "stream",
     "text": [
      "odd\n"
     ]
    }
   ],
   "source": [
    "x=9\n",
    "if x%2==0:\n",
    "    print(\"Even\")\n",
    "else:\n",
    "    print(\"odd\")\n",
    "    "
   ]
  },
  {
   "cell_type": "code",
   "execution_count": 6,
   "id": "eb199a2d-2ac5-473d-b749-7f9fb2863ec5",
   "metadata": {},
   "outputs": [
    {
     "data": {
      "text/plain": [
       "False"
      ]
     },
     "execution_count": 6,
     "metadata": {},
     "output_type": "execute_result"
    }
   ],
   "source": [
    "7%2==0"
   ]
  },
  {
   "cell_type": "code",
   "execution_count": 11,
   "id": "dc6e9eac-b741-460e-ba8e-facf4e62ab92",
   "metadata": {},
   "outputs": [
    {
     "data": {
      "text/plain": [
       "False"
      ]
     },
     "execution_count": 11,
     "metadata": {},
     "output_type": "execute_result"
    }
   ],
   "source": [
    "x%2==0"
   ]
  },
  {
   "cell_type": "code",
   "execution_count": null,
   "id": "188261d6-e62b-422f-91f8-17a25af821a3",
   "metadata": {},
   "outputs": [],
   "source": [
    "wap to know number is positive negative or zero"
   ]
  },
  {
   "cell_type": "code",
   "execution_count": 17,
   "id": "2da48577-a415-4a4d-82e2-db0adf20a4d7",
   "metadata": {},
   "outputs": [
    {
     "name": "stdout",
     "output_type": "stream",
     "text": [
      "neg\n"
     ]
    }
   ],
   "source": [
    "x=-5.8\n",
    "if x>0:\n",
    "    print('pos')\n",
    "elif x<0:\n",
    "    print('neg')\n",
    "else:\n",
    "    print('zero')"
   ]
  },
  {
   "cell_type": "code",
   "execution_count": null,
   "id": "ab593067-a0ab-48e2-9a9f-bf14a8f6360a",
   "metadata": {},
   "outputs": [],
   "source": [
    "x=6\n",
    "if x>0:\n",
    "    print('pos')\n",
    "    if x>10:\n",
    "        print('M')\n",
    "    elif x>20:\n",
    "        print('P')\n",
    "    elif x<10:\n",
    "        print('K')\n",
    "    else:\n",
    "        print('T')\n",
    "    else:\n",
    "        print('neg')\n",
    "\n",
    "     if x<-20:\n",
    "         print('Q')\n",
    "    elif x>-10:\n",
    "        print('C')\n",
    "    elif x>-30:\n",
    "        print\n",
    "\n",
    "\n"
   ]
  },
  {
   "cell_type": "code",
   "execution_count": 37,
   "id": "c4dc67b7-20cc-4b21-9f7f-bda041fb05dd",
   "metadata": {},
   "outputs": [
    {
     "name": "stdout",
     "output_type": "stream",
     "text": [
      "yes\n",
      "yes\n"
     ]
    }
   ],
   "source": [
    "x='telangana'\n",
    "x='Tiger'\n",
    "x='Tan'\n",
    "if x[0]=='t' or x[0]=='T':\n",
    "   print('yes')\n",
    "   if x[0]=='t' or x[0]=='T':\n",
    "       print('yes')\n",
    "   else:\n",
    "       print('no')\n",
    "       if x[0]=='t' or x[0]=='T':\n",
    "           print('yes')\n",
    "       else:\n",
    "           print('no')"
   ]
  },
  {
   "cell_type": "code",
   "execution_count": 29,
   "id": "0d837c03-061d-430d-b6ff-275e02ed9611",
   "metadata": {},
   "outputs": [],
   "source": [
    "x='lion'\n",
    "x='mumbai'"
   ]
  },
  {
   "cell_type": "code",
   "execution_count": 33,
   "id": "e94f57ef-e577-4c9a-9856-2004d0d0c164",
   "metadata": {},
   "outputs": [
    {
     "name": "stdout",
     "output_type": "stream",
     "text": [
      "Yes\n"
     ]
    }
   ],
   "source": [
    "x='tiger'\n",
    "if x[0]=='t' or x[0]=='T':\n",
    "    print('Yes')\n",
    "else:\n",
    "    print('No')"
   ]
  },
  {
   "cell_type": "code",
   "execution_count": 39,
   "id": "edd01e76-6ac6-4834-ae8b-5aea9da08270",
   "metadata": {},
   "outputs": [
    {
     "name": "stdout",
     "output_type": "stream",
     "text": [
      "No\n"
     ]
    }
   ],
   "source": [
    "if x[0]=='s' or x[0]=='S' or x[0]=='m' or x[0]=='M' or x[0]=='h' or x[0]=='h':\n",
    "    print('Yes')\n",
    "else:\n",
    "    print('No')"
   ]
  },
  {
   "cell_type": "code",
   "execution_count": 41,
   "id": "069415c0-17b0-48dc-aa6c-ef38810f79d4",
   "metadata": {},
   "outputs": [
    {
     "name": "stdout",
     "output_type": "stream",
     "text": [
      "No\n"
     ]
    }
   ],
   "source": [
    "if x[0].lower() in ('s','m','h'):\n",
    "    print('Yes' )\n",
    "else:\n",
    "    print('No')"
   ]
  },
  {
   "cell_type": "code",
   "execution_count": null,
   "id": "ae8218b2-adfa-4cc8-976c-fd7691dddbc6",
   "metadata": {},
   "outputs": [],
   "source": []
  }
 ],
 "metadata": {
  "kernelspec": {
   "display_name": "Python [conda env:base] *",
   "language": "python",
   "name": "conda-base-py"
  },
  "language_info": {
   "codemirror_mode": {
    "name": "ipython",
    "version": 3
   },
   "file_extension": ".py",
   "mimetype": "text/x-python",
   "name": "python",
   "nbconvert_exporter": "python",
   "pygments_lexer": "ipython3",
   "version": "3.12.7"
  }
 },
 "nbformat": 4,
 "nbformat_minor": 5
}
